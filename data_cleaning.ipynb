{
 "cells": [
  {
   "cell_type": "markdown",
   "metadata": {},
   "source": [
    "# Data\n",
    "\n",
    "- In this chunk, I'm loading in the csv files I have collected for NBA data.\n",
    "- The `defense_dashboard`, `box_outs`, `defense_2pt`, `defense_3pt`, and `hustle_stats` objects were collected from NBA.com statistics using a Data Scraper.\n",
    "  - All from the 2023-2024 NBA Regular Season\n",
    "- The `dpoy_voting` data was collected from [Basketball-Reference ](https://www.basketball-reference.com/awards/awards_2024.html#all_dpoy)\n",
    "  - All NBA Regular Seasons from 2013-2014 through 2023-2024"
   ]
  },
  {
   "cell_type": "code",
   "execution_count": 87,
   "metadata": {},
   "outputs": [],
   "source": [
    "import pandas as pd\n",
    "\n",
    "# load in the csv files containing the NBA.com data\n",
    "defense_dashboard = pd.read_csv('data/defense_dashboard.csv')\n",
    "box_outs = pd.read_csv('data/box_outs.csv')\n",
    "defense_2pt = pd.read_csv('data/defense_2pt.csv')\n",
    "defense_3pt = pd.read_csv('data/defense_3pt.csv')\n",
    "hustle_stats = pd.read_csv('data/hustle_stats.csv')\n",
    "\n",
    "# load voting information for defensive player of the year from Baseball-Reference\n",
    "dpoy_voting = pd.read_csv('data/dpoy_voting.csv')"
   ]
  },
  {
   "cell_type": "markdown",
   "metadata": {},
   "source": [
    "Need to check the columns to see which ones we want, and if there are columns to be renamed."
   ]
  },
  {
   "cell_type": "code",
   "execution_count": 88,
   "metadata": {},
   "outputs": [
    {
     "name": "stdout",
     "output_type": "stream",
     "text": [
      "Index(['Player', 'Team', 'Age', 'Position', 'GP', 'DFGM', 'DFGA', 'DFG_PCT',\n",
      "       'FG_PCT'],\n",
      "      dtype='object')\n",
      "Index(['Player', 'Min', 'box_outs', 'off_box_outs', 'def_box_outs',\n",
      "       'team_reb_pct', 'player_reb_pct'],\n",
      "      dtype='object')\n",
      "Index(['Player', 'Team', 'Age', 'Position', 'GP', 'DFGM', 'DFGA', 'DFG_PCT',\n",
      "       'FG_PCT'],\n",
      "      dtype='object')\n",
      "Index(['Player', 'Team', 'Age', 'Position', 'GP', 'DFGM', 'DFGA', 'DFG_PCT',\n",
      "       'FG_PCT'],\n",
      "      dtype='object')\n",
      "Index(['Player', 'Min', 'Deflections', 'off_LB', 'def_LB', 'charges',\n",
      "       'contested_shots'],\n",
      "      dtype='object')\n",
      "Index(['Rank', 'Player', 'Age', 'Tm', 'Season', 'MVP', 'First', 'Pts Won',\n",
      "       'Pts Max', 'Share', 'G', 'MP', 'PTS', 'TRB', 'AST', 'STL', 'BLK', 'FG%',\n",
      "       '3P%', 'FT%', 'WS', 'WS/48', 'DWS', 'DBPM', 'DRtg', '-9999'],\n",
      "      dtype='object')\n"
     ]
    }
   ],
   "source": [
    "# view the columns of the dataframes\n",
    "dfs = [defense_dashboard, box_outs, defense_2pt, defense_3pt, hustle_stats, dpoy_voting]\n",
    "for df in dfs:\n",
    "    print(df.columns)"
   ]
  },
  {
   "cell_type": "code",
   "execution_count": 89,
   "metadata": {},
   "outputs": [],
   "source": [
    "# Select only the specified columns for dpoy_voting\n",
    "dpoy_voting = dpoy_voting[['Player', 'Age', 'Tm', 'Season', 'MVP', 'First', 'Pts Won', \n",
    "                           'Pts Max', 'Share',  'G', 'MP', 'STL', 'BLK', \n",
    "                           'DWS', 'DBPM', 'DRtg']]\n",
    "\n",
    "\n",
    "# Filter the 2023-24 DPOY Voting candidates\n",
    "dpoy_24 = dpoy_voting[dpoy_voting['Season'] == '2023-24']\n",
    "\n",
    "# change column names to be more specific\n",
    "defense_2pt.rename(columns={'DFGM': 'DFGM_2pt', 'DFGA': 'DFA_2pt', 'DFG_PCT': 'DFG_pct_2pt'}, inplace=True)\n",
    "defense_3pt.rename(columns={'DFGM': 'DFGM_3pt', 'DFGA': 'DFA_3pt', 'DFG_PCT': 'DFG_pct_3pt'}, inplace=True)"
   ]
  },
  {
   "cell_type": "markdown",
   "metadata": {},
   "source": [
    "# Filter the 2024 DPOY Candidates"
   ]
  },
  {
   "cell_type": "code",
   "execution_count": 90,
   "metadata": {},
   "outputs": [
    {
     "name": "stdout",
     "output_type": "stream",
     "text": [
      "Index(['Player', 'Team_x', 'Age_x', 'Position_x', 'GP_x', 'DFGM', 'DFGA',\n",
      "       'DFG_PCT', 'FG_PCT_x', 'Min_x', 'box_outs', 'off_box_outs',\n",
      "       'def_box_outs', 'team_reb_pct', 'player_reb_pct', 'Team_y', 'Age_y',\n",
      "       'Position_y', 'GP_y', 'DFGM_2pt', 'DFA_2pt', 'DFG_pct_2pt', 'FG_PCT_y',\n",
      "       'Team', 'Age', 'Position', 'GP', 'DFGM_3pt', 'DFA_3pt', 'DFG_pct_3pt',\n",
      "       'FG_PCT', 'Min_y', 'Deflections', 'off_LB', 'def_LB', 'charges',\n",
      "       'contested_shots'],\n",
      "      dtype='object')\n"
     ]
    }
   ],
   "source": [
    "\n",
    "players = dpoy_24['Player']\n",
    "\n",
    "# filter the dataframes so that we're only focusing on the players that received votes for\n",
    "# defensive player of the year\n",
    "defense_dashboard = defense_dashboard[defense_dashboard['Player'].isin(players)]\n",
    "box_outs = box_outs[box_outs['Player'].isin(players)]\n",
    "defense_2pt = defense_2pt[defense_2pt['Player'].isin(players)]\n",
    "defense_3pt = defense_3pt[defense_3pt['Player'].isin(players)]\n",
    "hustle_stats = hustle_stats[hustle_stats['Player'].isin(players)]\n",
    "\n",
    "# create larger 'data' object containing all the variables.\n",
    "data = pd.merge(defense_dashboard, box_outs, on='Player')\n",
    "data = pd.merge(data, defense_2pt, on='Player')\n",
    "data = pd.merge(data, defense_3pt, on='Player')\n",
    "data = pd.merge(data, hustle_stats, on='Player')\n",
    "\n",
    "# View the columns of data\n",
    "print(data.columns)"
   ]
  },
  {
   "cell_type": "markdown",
   "metadata": {},
   "source": [
    "Some columns are unnecessary so we will select the columns we want."
   ]
  },
  {
   "cell_type": "code",
   "execution_count": 91,
   "metadata": {},
   "outputs": [
    {
     "name": "stdout",
     "output_type": "stream",
     "text": [
      "Index(['Player', 'Team', 'Age', 'Position', 'GP', 'DFGM', 'DFGA', 'DFG_PCT',\n",
      "       'MP', 'box_outs', 'def_box_outs', 'team_reb_pct', 'player_reb_pct',\n",
      "       'DFGM_2pt', 'DFA_2pt', 'DFG_pct_2pt', 'DFGM_3pt', 'DFA_3pt',\n",
      "       'DFG_pct_3pt', 'Deflections', 'def_LB', 'charges', 'contested_shots'],\n",
      "      dtype='object')\n"
     ]
    }
   ],
   "source": [
    "# Desired columns for the data subset\n",
    "cols_desired = ['Player', 'Team', 'Age', 'Position', 'GP', 'DFGM', 'DFGA',\n",
    "       'DFG_PCT', 'Min_x', 'box_outs',\n",
    "       'def_box_outs', 'team_reb_pct', 'player_reb_pct', \n",
    "       'DFGM_2pt', 'DFA_2pt', 'DFG_pct_2pt', 'DFGM_3pt', 'DFA_3pt', 'DFG_pct_3pt', \n",
    "       'Deflections', 'def_LB', 'charges', 'contested_shots']\n",
    "# subset the data\n",
    "data = data[cols_desired]\n",
    "# rename the column for total minutes played\n",
    "data.rename(columns={'Min_x': 'MP'}, inplace=True)\n",
    "# verify the columns \n",
    "print(data.columns)"
   ]
  },
  {
   "cell_type": "markdown",
   "metadata": {},
   "source": [
    "# Rank the Players\n",
    "- I decided to add variables ending in '_rank' in order to rank the players by their respective performance in each category\n",
    "- `higher_is_better` indicates the columns in which a higher value indicates a positive trend. \n",
    "  - e.g. You draw more charges than another guy, that's a defensive benefit\n",
    "- `lower_is_better` indicates the columns in which a lower value indicates better performance\n",
    "  - e.g. Lower Defended Field Goal % often (but not always!) indicates better defense"
   ]
  },
  {
   "cell_type": "code",
   "execution_count": 92,
   "metadata": {},
   "outputs": [],
   "source": [
    "higher_is_better = ['DFGA', 'box_outs', 'def_box_outs', 'team_reb_pct',\n",
    "                  'player_reb_pct', 'DFA_2pt', 'DFA_3pt', 'Deflections',  \n",
    "                  'def_LB', 'charges', 'contested_shots']\n",
    "\n",
    "lower_is_better = ['DFGM', 'DFG_PCT', 'MP', 'DFGM_2pt', 'DFG_pct_2pt', 'DFGM_3pt', 'DFG_pct_3pt']\n",
    "\n",
    "# create rankings for each of the columns\n",
    "for col in higher_is_better:\n",
    "    data[col + '_rank'] = data[col].rank(ascending=False)\n",
    "# create rankings for each of the columns\n",
    "for col in lower_is_better:\n",
    "    data[col + '_rank'] = data[col].rank(ascending=True)\n",
    "    \n",
    "# filter the rankings columns for analysis\n",
    "rankings = data.filter(regex='_rank$')\n",
    "# filter any columns referring to offense\n",
    "drop_columns = data.filter(regex='^off_').columns\n",
    "# remove the columns to be dropped\n",
    "data = data.drop(columns=drop_columns)"
   ]
  },
  {
   "cell_type": "code",
   "execution_count": 93,
   "metadata": {},
   "outputs": [],
   "source": [
    "# calculate the avergage rank for each player\n",
    "data['average_rank'] = rankings.mean(axis=1)\n",
    "# sort the values by average rank\n",
    "data = data.sort_values(by='average_rank').reset_index(drop=True)\n",
    "# merge the data with the dpoy_voting data\n",
    "data = pd.merge(data, dpoy_24, on='Player')\n",
    "# Drop duplicate columns\n",
    "data = data.drop(columns=['MP_y', 'Age_y', 'Tm'])\n",
    "# rename the columns\n",
    "data.rename(columns={'MP_x': 'MP', 'Age_x': 'Age'}, inplace=True)\n",
    "\n",
    "# save the data to a csv file\n",
    "data.to_csv('data/clean.csv')"
   ]
  }
 ],
 "metadata": {
  "kernelspec": {
   "display_name": "Python 3",
   "language": "python",
   "name": "python3"
  },
  "language_info": {
   "codemirror_mode": {
    "name": "ipython",
    "version": 3
   },
   "file_extension": ".py",
   "mimetype": "text/x-python",
   "name": "python",
   "nbconvert_exporter": "python",
   "pygments_lexer": "ipython3",
   "version": "3.12.3"
  }
 },
 "nbformat": 4,
 "nbformat_minor": 2
}
